{
 "cells": [
  {
   "cell_type": "code",
   "execution_count": 8,
   "id": "78d7db15",
   "metadata": {},
   "outputs": [
    {
     "data": {
      "text/plain": [
       "' D:\\x07iml\\x01.HOPE AI\\x01.HOPE AI STUDY\\\\Capstone Project ML and DS'"
      ]
     },
     "execution_count": 8,
     "metadata": {},
     "output_type": "execute_result"
    }
   ],
   "source": [
    "import random\n",
    "from datetime import timedelta\n",
    "import numpy as np\n",
    "import pandas as pd\n",
    "\n",
    "# Reload the original 1000-row dataset\n",
    "\n",
    "df = pd.read_csv(\"predictive_car_service_dataset_modified_1000.csv\")\n",
    "\n",
    "# 1. Add estimated 'last_service_cost' based on random uniform distribution\n",
    "df['last_service_cost'] = np.round(np.random.uniform(3000, 15000, size=len(df)), 2)\n",
    "\n",
    "# 2. Add simulated 'feedback_score' (1 to 5)\n",
    "df['feedback_score'] = np.random.choice([1, 2, 3, 4, 5], size=len(df), p=[0.1, 0.15, 0.3, 0.3, 0.15])\n",
    "\n",
    "# 3. Add 'pickup_drop_required' (yes/no)\n",
    "df['pickup_drop_required'] = np.random.choice(['Yes', 'No'], size=len(df), p=[0.3, 0.7])\n",
    "\n",
    "# 4. Simulate 'customer_feedback' remarks (text)\n",
    "remarks_list = ['Satisfied', 'Average', 'Poor Service', 'Delayed Pickup', 'Smooth Process', 'Unresponsive']\n",
    "df['customer_feedback'] = np.random.choice(remarks_list, size=len(df))\n",
    "\n",
    "# 5. Add 'feedback_date' based on last_service_date\n",
    "df['last_service_date'] = pd.to_datetime(df['last_service_date'], errors='coerce')\n",
    "df['feedback_date'] = df['last_service_date'] + pd.to_timedelta(np.random.randint(1, 5, size=len(df)), unit='d')\n",
    "\n",
    "# Save the modified dataset\n",
    "modified_dataset= \"modify_predictive_service_dataset_augmented_1000.csv\"\n",
    "df.to_csv(modified_dataset, index=False)\n",
    "\n",
    "modified_dataset_path"
   ]
  },
  {
   "cell_type": "code",
   "execution_count": null,
   "id": "c8b40124",
   "metadata": {},
   "outputs": [],
   "source": []
  }
 ],
 "metadata": {
  "kernelspec": {
   "display_name": "Python 3 (ipykernel)",
   "language": "python",
   "name": "python3"
  },
  "language_info": {
   "codemirror_mode": {
    "name": "ipython",
    "version": 3
   },
   "file_extension": ".py",
   "mimetype": "text/x-python",
   "name": "python",
   "nbconvert_exporter": "python",
   "pygments_lexer": "ipython3",
   "version": "3.7.1"
  }
 },
 "nbformat": 4,
 "nbformat_minor": 5
}
